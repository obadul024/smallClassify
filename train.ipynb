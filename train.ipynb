{
  "nbformat": 4,
  "nbformat_minor": 0,
  "metadata": {
    "language_info": {
      "codemirror_mode": {
        "name": "ipython",
        "version": 3
      },
      "file_extension": ".py",
      "mimetype": "text/x-python",
      "name": "python",
      "nbconvert_exporter": "python",
      "pygments_lexer": "ipython3",
      "version": "3.8.10"
    },
    "orig_nbformat": 4,
    "kernelspec": {
      "name": "python3",
      "display_name": "Python 3.8.10 64-bit ('small': venv)"
    },
    "interpreter": {
      "hash": "9d445c912014069023a257f2dbf397f4fe171727110377efb3710a5aa6ffde68"
    },
    "colab": {
      "name": "train.ipynb",
      "provenance": []
    },
    "accelerator": "GPU"
  },
  "cells": [
    {
      "cell_type": "code",
      "metadata": {
        "id": "-diWSlDhzBbx"
      },
      "source": [
        ""
      ],
      "execution_count": null,
      "outputs": []
    },
    {
      "cell_type": "code",
      "metadata": {
        "id": "y-n7wRwOy3lr"
      },
      "source": [
        "import numpy as np\n",
        "import tensorflow as tf\n",
        "from tensorflow import keras\n",
        "from tensorflow.keras.layers.experimental.preprocessing import Normalization\n",
        "from tensorflow.keras.preprocessing.image import ImageDataGenerator\n",
        "from tensorflow.keras.applications.inception_v3 import InceptionV3\n",
        "from tensorflow.keras.preprocessing import image\n",
        "from tensorflow.keras.models import Model\n",
        "from tensorflow.keras.layers import Dense, GlobalAveragePooling2D\n",
        "from tensorflow.python.keras import optimizers\n",
        "from tensorflow.python.keras.applications.inception_v3 import preprocess_input"
      ],
      "execution_count": 49,
      "outputs": []
    },
    {
      "cell_type": "code",
      "metadata": {
        "colab": {
          "base_uri": "https://localhost:8080/",
          "height": 1000
        },
        "id": "vgRJIDb4zCQV",
        "outputId": "aa6c4f38-65db-4094-986c-715d1ba8a168"
      },
      "source": [
        "import cv2\n",
        "from numpy import expand_dims\n",
        "from keras.preprocessing.image import load_img\n",
        "from keras.preprocessing.image import img_to_array\n",
        "from keras.preprocessing.image import ImageDataGenerator\n",
        "from matplotlib import pyplot\n",
        "# load the image\n",
        "\n",
        "\n",
        "\n",
        "\n",
        "FILENAME = 'welling11.jpg'\n",
        "FILENAMEEXTENSION = -6\n",
        "FOLDERNAME = FILENAME[:FILENAMEEXTENSION]\n",
        "\n",
        "\n",
        "for i, file in enumerate(glob.glob('dataset/*.jpg')):\n",
        "  \n",
        "  img = load_img(file)\n",
        "  # convert to numpy array\n",
        "  data = img_to_array(img)\n",
        "  # expand dimension to one sample\n",
        "  samples = expand_dims(data, 0)\n",
        "  print(samples.shape)\n",
        "  # create image data augmentation generator\n",
        "  datagen = [ImageDataGenerator(width_shift_range=[-200,200]), ImageDataGenerator(height_shift_range=0.5), ImageDataGenerator(horizontal_flip=True), ImageDataGenerator(rotation_range=90), ImageDataGenerator(brightness_range=[0.2,1.0]) ]\n",
        "\n",
        "\n",
        "  for idx, gen in enumerate(datagen):\n",
        "    # prepare iterator\n",
        "    # print(idx, gen)\n",
        "    it = gen.flow(samples, batch_size=1)\n",
        "    # generate samples and plot\n",
        "    for i in range(9):\n",
        "      # define subplot\n",
        "      pyplot.subplot(330 + 1 + i)\n",
        "      # generate batch of images\n",
        "      batch = it.next()\n",
        "      # convert to unsigned integers for viewing\n",
        "      image = batch[0].astype('uint8')\n",
        "      # plot raw pixel data\n",
        "      pyplot.imshow(image)\n",
        "      print(cv2.imwrite('supermen/'+FOLDERNAME+'/'+FILENAME[:-4]+str(i)+str(idx)+'.jpg', cv2.cvtColor(image, cv2.COLOR_RGB2BGR)))"
      ],
      "execution_count": 92,
      "outputs": [
        {
          "output_type": "stream",
          "text": [
            "(1, 1000, 689, 3)\n",
            "True\n",
            "True\n",
            "True\n",
            "True\n",
            "True\n",
            "True\n",
            "True\n",
            "True\n",
            "True\n"
          ],
          "name": "stdout"
        },
        {
          "output_type": "stream",
          "text": [
            "/usr/local/lib/python3.7/dist-packages/ipykernel_launcher.py:30: MatplotlibDeprecationWarning: Adding an axes using the same arguments as a previous axes currently reuses the earlier instance.  In a future version, a new instance will always be created and returned.  Meanwhile, this warning can be suppressed, and the future behavior ensured, by passing a unique label to each axes instance.\n"
          ],
          "name": "stderr"
        },
        {
          "output_type": "stream",
          "text": [
            "True\n",
            "True\n",
            "True\n",
            "True\n",
            "True\n",
            "True\n",
            "True\n",
            "True\n",
            "True\n",
            "True\n",
            "True\n",
            "True\n",
            "True\n",
            "True\n",
            "True\n",
            "True\n",
            "True\n",
            "True\n",
            "True\n",
            "True\n",
            "True\n",
            "True\n",
            "True\n",
            "True\n",
            "True\n",
            "True\n",
            "True\n",
            "True\n",
            "True\n",
            "True\n",
            "True\n",
            "True\n",
            "True\n",
            "True\n",
            "True\n",
            "True\n"
          ],
          "name": "stdout"
        },
        {
          "output_type": "display_data",
          "data": {
            "image/png": "[encoded data removed]",
            "text/plain": [
              "<Figure size 432x288 with 9 Axes>"
            ]
          },
          "metadata": {
            "tags": [],
            "needs_background": "light"
          }
        }
      ]
    },
    {
      "cell_type": "code",
      "metadata": {
        "id": "Vub5dmBbG6l1"
      },
      "source": [
        "it = gen.flow(samples, batch_size=1)"
      ],
      "execution_count": 71,
      "outputs": []
    },
    {
      "cell_type": "code",
      "metadata": {
        "colab": {
          "base_uri": "https://localhost:8080/",
          "height": 35
        },
        "id": "dUIiRJkjNHtG",
        "outputId": "9fca8da4-6f03-4d2d-90bd-8d87d8055521"
      },
      "source": [
        "FILENAME[:-4]"
      ],
      "execution_count": 88,
      "outputs": [
        {
          "output_type": "execute_result",
          "data": {
            "application/vnd.google.colaboratory.intrinsic+json": {
              "type": "string"
            },
            "text/plain": [
              "'welling11'"
            ]
          },
          "metadata": {
            "tags": []
          },
          "execution_count": 88
        }
      ]
    },
    {
      "cell_type": "code",
      "metadata": {
        "colab": {
          "base_uri": "https://localhost:8080/",
          "height": 286
        },
        "id": "L0REd0K2Lqk2",
        "outputId": "a6b37bf2-5cd2-4ab0-c091-8536beb09f00"
      },
      "source": [
        "pyplot.imshow(it.next()[0].astype('uint8'))"
      ],
      "execution_count": 87,
      "outputs": [
        {
          "output_type": "execute_result",
          "data": {
            "text/plain": [
              "<matplotlib.image.AxesImage at 0x7f0fb9408d10>"
            ]
          },
          "metadata": {
            "tags": []
          },
          "execution_count": 87
        },
        {
          "output_type": "display_data",
          "data": {
            "image/png": "[encoded data removed]",
            "text/plain": [
              "<Figure size 432x288 with 1 Axes>"
            ]
          },
          "metadata": {
            "tags": [],
            "needs_background": "light"
          }
        }
      ]
    },
    {
      "cell_type": "markdown",
      "metadata": {
        "id": "kScQayWyy3lx"
      },
      "source": [
        "# Setting up the training generators\n",
        "\n",
        "The training and validation generators are created. THese supply images to the model one by one.\n",
        "We split it into 80% training 20% validation set, see validtion_split. The classes are split into categorical mode to show that they are separate classes. Then the image size is set, for this InceptionV3 model, the INPUT Image Size has to be 299 x 299 x 3, i.e. three channels for color, also rescale the images to have pixel values from 0 to 255, this is important. Give it the training_dataset directory that we made using the augmented_Model.py script.\n",
        "\n",
        "\n"
      ]
    },
    {
      "cell_type": "code",
      "metadata": {
        "colab": {
          "base_uri": "https://localhost:8080/"
        },
        "id": "GoIJT0Fhy3ly",
        "outputId": "8a75249a-fd73-4d3e-ce0e-7c3753671fcb"
      },
      "source": [
        "\n",
        "train_data_dir = '/content/supermen'\n",
        "batch_size = 16\n",
        "img_height = 299\n",
        "img_width = 299\n",
        "train_datagen = ImageDataGenerator(\n",
        "    rescale=1./255,\n",
        "    validation_split=0.2) # set validation split\n",
        "\n",
        "train_generator = train_datagen.flow_from_directory(\n",
        "    train_data_dir,\n",
        "    target_size=(img_height, img_width),\n",
        "    batch_size=batch_size,\n",
        "    class_mode='categorical',\n",
        "    subset='training') # set as training data\n",
        "\n",
        "validation_generator = train_datagen.flow_from_directory(\n",
        "    train_data_dir, # same directory as training data\n",
        "    target_size=(img_height, img_width),\n",
        "    batch_size=batch_size,\n",
        "    class_mode='categorical',\n",
        "    subset='validation') # set as validation data"
      ],
      "execution_count": 44,
      "outputs": [
        {
          "output_type": "stream",
          "text": [
            "Found 108 images belonging to 4 classes.\n",
            "Found 27 images belonging to 4 classes.\n"
          ],
          "name": "stdout"
        }
      ]
    },
    {
      "cell_type": "code",
      "metadata": {
        "id": "mjWySMzt0O9B"
      },
      "source": [
        "train_generator.next()"
      ],
      "execution_count": null,
      "outputs": []
    },
    {
      "cell_type": "code",
      "metadata": {
        "id": "KSXbXDK03ZOQ"
      },
      "source": [
        "import pandas as pd\n",
        "pd.Series(train_generator.classes)"
      ],
      "execution_count": null,
      "outputs": []
    },
    {
      "cell_type": "code",
      "metadata": {
        "id": "2JzNaMz_y3lz"
      },
      "source": [
        "# CREATE MODEL FROM INCEPTION_V3\n",
        "# base_model loads the InceptionV3 model\n",
        "# predictions add a new Dense layer with 5 neurons for our five classes\n",
        "#then the model is create using base_model and predictions as its output\n",
        "\n",
        "base_model = InceptionV3(weights='imagenet', include_top=False)\n",
        "x = base_model.output\n",
        "x = GlobalAveragePooling2D()(x)\n",
        "predictions = Dense(4, activation='softmax')(x)\n",
        "model = Model(inputs=base_model.input, outputs=predictions)"
      ],
      "execution_count": 12,
      "outputs": []
    },
    {
      "cell_type": "code",
      "metadata": {
        "id": "h7ipNzpfy3l0"
      },
      "source": [
        "# LOAD SAVED MODEL\n",
        "# to load a saved model uncomment this and run it \n",
        "# When you want to run the saved model, comment the above line where model variable is declared\n",
        "\n",
        "# model = keras.models.load_model('mymodel')\n",
        "# model.summary()"
      ],
      "execution_count": null,
      "outputs": []
    },
    {
      "cell_type": "code",
      "metadata": {
        "id": "Q2A5Zwd7y3l0"
      },
      "source": [
        "# Layers are set to not trainable\n",
        "# we set original InceptionV3 model to freeze, so that out Dense layer has a chance to get initialised\n",
        "\n",
        "for layer in model.layers:\n",
        "    layer.trainable = False\n",
        "\n",
        "\n",
        "model.compile(optimizer='rmsprop', loss='categorical_crossentropy')\n",
        "\n",
        "# start fitting the model to get Dense layer initialsed\n",
        "model.fit_generator(\n",
        "    train_generator,\n",
        "    steps_per_epoch = train_generator.samples // batch_size,\n",
        "    validation_data = validation_generator,\n",
        "    validation_steps = validation_generator.samples // batch_size,\n",
        "    epochs = 20)"
      ],
      "execution_count": null,
      "outputs": []
    },
    {
      "cell_type": "code",
      "metadata": {
        "id": "Z7BqO0Csy3l1"
      },
      "source": [
        "# Print layer names and then set the last layer few layers to unfreeze so we can train them to classify\n",
        "\n",
        "for i, layer in enumerate(model.layers):\n",
        "    print(i, layer.name)\n",
        "\n",
        "for layer in model.layers[:249]:\n",
        "    layer.trainable = False\n",
        "\n",
        "for layer in model.layers[249:]:\n",
        "    layer.trainable = True\n",
        "    print(layer.name)\n",
        " \n"
      ],
      "execution_count": null,
      "outputs": []
    },
    {
      "cell_type": "code",
      "metadata": {
        "colab": {
          "base_uri": "https://localhost:8080/"
        },
        "id": "CPRzbAxOy3l2",
        "outputId": "b7b1fa21-8e85-443e-f54d-a18c9cf8afd4"
      },
      "source": [
        "# Compile our Model to use Stochastic Gradient Descent Algorithm with a very low Learning Rate so it can stop Underfitting\n",
        "\n",
        "from tensorflow.keras.optimizers import SGD\n",
        "model.compile(optimizer=SGD(learning_rate=0.0001, momentum=0.9), loss='categorical_crossentropy')\n",
        "\n",
        "model.fit_generator(\n",
        "    \n",
        "    train_generator,\n",
        "    steps_per_epoch = train_generator.samples // batch_size,\n",
        "    validation_data = validation_generator,\n",
        "    validation_steps = validation_generator.samples // batch_size,\n",
        "    epochs = 100)"
      ],
      "execution_count": 47,
      "outputs": [
        {
          "output_type": "stream",
          "text": [
            "/usr/local/lib/python3.7/dist-packages/tensorflow/python/keras/engine/training.py:1940: UserWarning: `Model.fit_generator` is deprecated and will be removed in a future version. Please use `Model.fit`, which supports generators.\n",
            "  warnings.warn('`Model.fit_generator` is deprecated and '\n"
          ],
          "name": "stderr"
        },
        {
          "output_type": "stream",
          "text": [
            "Epoch 1/100\n",
            "6/6 [==============================] - 6s 353ms/step - loss: 0.1018 - val_loss: 0.1886\n",
            "Epoch 2/100\n",
            "6/6 [==============================] - 1s 140ms/step - loss: 0.0945 - val_loss: 0.1001\n",
            "Epoch 3/100\n",
            "6/6 [==============================] - 1s 140ms/step - loss: 0.0718 - val_loss: 0.0693\n",
            "Epoch 4/100\n",
            "6/6 [==============================] - 1s 141ms/step - loss: 0.0497 - val_loss: 0.2084\n",
            "Epoch 5/100\n",
            "6/6 [==============================] - 1s 143ms/step - loss: 0.0633 - val_loss: 0.1457\n",
            "Epoch 6/100\n",
            "6/6 [==============================] - 1s 146ms/step - loss: 0.0712 - val_loss: 0.0878\n",
            "Epoch 7/100\n",
            "6/6 [==============================] - 1s 148ms/step - loss: 0.0394 - val_loss: 0.0923\n",
            "Epoch 8/100\n",
            "6/6 [==============================] - 1s 148ms/step - loss: 0.0704 - val_loss: 0.1190\n",
            "Epoch 9/100\n",
            "6/6 [==============================] - 1s 149ms/step - loss: 0.0481 - val_loss: 0.0636\n",
            "Epoch 10/100\n",
            "6/6 [==============================] - 1s 150ms/step - loss: 0.0751 - val_loss: 0.0320\n",
            "Epoch 11/100\n",
            "6/6 [==============================] - 1s 150ms/step - loss: 0.0566 - val_loss: 0.0610\n",
            "Epoch 12/100\n",
            "6/6 [==============================] - 1s 147ms/step - loss: 0.0336 - val_loss: 0.0564\n",
            "Epoch 13/100\n",
            "6/6 [==============================] - 1s 150ms/step - loss: 0.0351 - val_loss: 0.0356\n",
            "Epoch 14/100\n",
            "6/6 [==============================] - 1s 156ms/step - loss: 0.0348 - val_loss: 0.0557\n",
            "Epoch 15/100\n",
            "6/6 [==============================] - 1s 150ms/step - loss: 0.0418 - val_loss: 0.0358\n",
            "Epoch 16/100\n",
            "6/6 [==============================] - 1s 148ms/step - loss: 0.0368 - val_loss: 0.0373\n",
            "Epoch 17/100\n",
            "6/6 [==============================] - 1s 147ms/step - loss: 0.0252 - val_loss: 0.0482\n",
            "Epoch 18/100\n",
            "6/6 [==============================] - 1s 149ms/step - loss: 0.0315 - val_loss: 0.0301\n",
            "Epoch 19/100\n",
            "6/6 [==============================] - 1s 149ms/step - loss: 0.0445 - val_loss: 0.0367\n",
            "Epoch 20/100\n",
            "6/6 [==============================] - 1s 149ms/step - loss: 0.0282 - val_loss: 0.0481\n",
            "Epoch 21/100\n",
            "6/6 [==============================] - 1s 147ms/step - loss: 0.0434 - val_loss: 0.0342\n",
            "Epoch 22/100\n",
            "6/6 [==============================] - 1s 149ms/step - loss: 0.0427 - val_loss: 0.0378\n",
            "Epoch 23/100\n",
            "6/6 [==============================] - 1s 149ms/step - loss: 0.0371 - val_loss: 0.0227\n",
            "Epoch 24/100\n",
            "6/6 [==============================] - 1s 149ms/step - loss: 0.0305 - val_loss: 0.0428\n",
            "Epoch 25/100\n",
            "6/6 [==============================] - 1s 149ms/step - loss: 0.0264 - val_loss: 0.0355\n",
            "Epoch 26/100\n",
            "6/6 [==============================] - 1s 151ms/step - loss: 0.0220 - val_loss: 0.0252\n",
            "Epoch 27/100\n",
            "6/6 [==============================] - 1s 149ms/step - loss: 0.0388 - val_loss: 0.0247\n",
            "Epoch 28/100\n",
            "6/6 [==============================] - 1s 151ms/step - loss: 0.0219 - val_loss: 0.0281\n",
            "Epoch 29/100\n",
            "6/6 [==============================] - 1s 143ms/step - loss: 0.0281 - val_loss: 0.0199\n",
            "Epoch 30/100\n",
            "6/6 [==============================] - 1s 142ms/step - loss: 0.0300 - val_loss: 0.0199\n",
            "Epoch 31/100\n",
            "6/6 [==============================] - 1s 145ms/step - loss: 0.0231 - val_loss: 0.0150\n",
            "Epoch 32/100\n",
            "6/6 [==============================] - 1s 149ms/step - loss: 0.0298 - val_loss: 0.0244\n",
            "Epoch 33/100\n",
            "6/6 [==============================] - 1s 141ms/step - loss: 0.0212 - val_loss: 0.0321\n",
            "Epoch 34/100\n",
            "6/6 [==============================] - 1s 150ms/step - loss: 0.0307 - val_loss: 0.0192\n",
            "Epoch 35/100\n",
            "6/6 [==============================] - 1s 144ms/step - loss: 0.0265 - val_loss: 0.0254\n",
            "Epoch 36/100\n",
            "6/6 [==============================] - 1s 147ms/step - loss: 0.0226 - val_loss: 0.0308\n",
            "Epoch 37/100\n",
            "6/6 [==============================] - 1s 142ms/step - loss: 0.0352 - val_loss: 0.0165\n",
            "Epoch 38/100\n",
            "6/6 [==============================] - 1s 148ms/step - loss: 0.0204 - val_loss: 0.0282\n",
            "Epoch 39/100\n",
            "6/6 [==============================] - 1s 141ms/step - loss: 0.0168 - val_loss: 0.0332\n",
            "Epoch 40/100\n",
            "6/6 [==============================] - 1s 140ms/step - loss: 0.0259 - val_loss: 0.0142\n",
            "Epoch 41/100\n",
            "6/6 [==============================] - 1s 145ms/step - loss: 0.0200 - val_loss: 0.0305\n",
            "Epoch 42/100\n",
            "6/6 [==============================] - 1s 143ms/step - loss: 0.0220 - val_loss: 0.0298\n",
            "Epoch 43/100\n",
            "6/6 [==============================] - 1s 142ms/step - loss: 0.0238 - val_loss: 0.0300\n",
            "Epoch 44/100\n",
            "6/6 [==============================] - 1s 141ms/step - loss: 0.0227 - val_loss: 0.0307\n",
            "Epoch 45/100\n",
            "6/6 [==============================] - 1s 140ms/step - loss: 0.0226 - val_loss: 0.0158\n",
            "Epoch 46/100\n",
            "6/6 [==============================] - 1s 145ms/step - loss: 0.0183 - val_loss: 0.0276\n",
            "Epoch 47/100\n",
            "6/6 [==============================] - 1s 141ms/step - loss: 0.0324 - val_loss: 0.0266\n",
            "Epoch 48/100\n",
            "6/6 [==============================] - 1s 143ms/step - loss: 0.0388 - val_loss: 0.0262\n",
            "Epoch 49/100\n",
            "6/6 [==============================] - 1s 139ms/step - loss: 0.0174 - val_loss: 0.0174\n",
            "Epoch 50/100\n",
            "6/6 [==============================] - 1s 142ms/step - loss: 0.0227 - val_loss: 0.0261\n",
            "Epoch 51/100\n",
            "6/6 [==============================] - 1s 140ms/step - loss: 0.0204 - val_loss: 0.0084\n",
            "Epoch 52/100\n",
            "6/6 [==============================] - 1s 141ms/step - loss: 0.0240 - val_loss: 0.0275\n",
            "Epoch 53/100\n",
            "6/6 [==============================] - 1s 140ms/step - loss: 0.0182 - val_loss: 0.0254\n",
            "Epoch 54/100\n",
            "6/6 [==============================] - 1s 143ms/step - loss: 0.0171 - val_loss: 0.0159\n",
            "Epoch 55/100\n",
            "6/6 [==============================] - 1s 142ms/step - loss: 0.0367 - val_loss: 0.0173\n",
            "Epoch 56/100\n",
            "6/6 [==============================] - 1s 142ms/step - loss: 0.0170 - val_loss: 0.0142\n",
            "Epoch 57/100\n",
            "6/6 [==============================] - 1s 142ms/step - loss: 0.0181 - val_loss: 0.0267\n",
            "Epoch 58/100\n",
            "6/6 [==============================] - 1s 141ms/step - loss: 0.0208 - val_loss: 0.0082\n",
            "Epoch 59/100\n",
            "6/6 [==============================] - 1s 147ms/step - loss: 0.0183 - val_loss: 0.0113\n",
            "Epoch 60/100\n",
            "6/6 [==============================] - 1s 148ms/step - loss: 0.0271 - val_loss: 0.0123\n",
            "Epoch 61/100\n",
            "6/6 [==============================] - 1s 139ms/step - loss: 0.0221 - val_loss: 0.0100\n",
            "Epoch 62/100\n",
            "6/6 [==============================] - 1s 140ms/step - loss: 0.0204 - val_loss: 0.0249\n",
            "Epoch 63/100\n",
            "6/6 [==============================] - 1s 142ms/step - loss: 0.0231 - val_loss: 0.0107\n",
            "Epoch 64/100\n",
            "6/6 [==============================] - 1s 139ms/step - loss: 0.0149 - val_loss: 0.0115\n",
            "Epoch 65/100\n",
            "6/6 [==============================] - 1s 139ms/step - loss: 0.0143 - val_loss: 0.0243\n",
            "Epoch 66/100\n",
            "6/6 [==============================] - 1s 142ms/step - loss: 0.0151 - val_loss: 0.0208\n",
            "Epoch 67/100\n",
            "6/6 [==============================] - 1s 153ms/step - loss: 0.0106 - val_loss: 0.0231\n",
            "Epoch 68/100\n",
            "6/6 [==============================] - 1s 149ms/step - loss: 0.0121 - val_loss: 0.0182\n",
            "Epoch 69/100\n",
            "6/6 [==============================] - 1s 148ms/step - loss: 0.0446 - val_loss: 0.0129\n",
            "Epoch 70/100\n",
            "6/6 [==============================] - 1s 159ms/step - loss: 0.0155 - val_loss: 0.0101\n",
            "Epoch 71/100\n",
            "6/6 [==============================] - 1s 155ms/step - loss: 0.0143 - val_loss: 0.0100\n",
            "Epoch 72/100\n",
            "6/6 [==============================] - 1s 156ms/step - loss: 0.0243 - val_loss: 0.0248\n",
            "Epoch 73/100\n",
            "6/6 [==============================] - 1s 149ms/step - loss: 0.0230 - val_loss: 0.0186\n",
            "Epoch 74/100\n",
            "6/6 [==============================] - 1s 148ms/step - loss: 0.0324 - val_loss: 0.0213\n",
            "Epoch 75/100\n",
            "6/6 [==============================] - 1s 150ms/step - loss: 0.0161 - val_loss: 0.0195\n",
            "Epoch 76/100\n",
            "6/6 [==============================] - 1s 148ms/step - loss: 0.0231 - val_loss: 0.0089\n",
            "Epoch 77/100\n",
            "6/6 [==============================] - 1s 149ms/step - loss: 0.0395 - val_loss: 0.0105\n",
            "Epoch 78/100\n",
            "6/6 [==============================] - 1s 152ms/step - loss: 0.0188 - val_loss: 0.0096\n",
            "Epoch 79/100\n",
            "6/6 [==============================] - 1s 147ms/step - loss: 0.0147 - val_loss: 0.0099\n",
            "Epoch 80/100\n",
            "6/6 [==============================] - 1s 151ms/step - loss: 0.0196 - val_loss: 0.0187\n",
            "Epoch 81/100\n",
            "6/6 [==============================] - 1s 150ms/step - loss: 0.0119 - val_loss: 0.0189\n",
            "Epoch 82/100\n",
            "6/6 [==============================] - 1s 150ms/step - loss: 0.0165 - val_loss: 0.0174\n",
            "Epoch 83/100\n",
            "6/6 [==============================] - 1s 155ms/step - loss: 0.0124 - val_loss: 0.0167\n",
            "Epoch 84/100\n",
            "6/6 [==============================] - 1s 154ms/step - loss: 0.0196 - val_loss: 0.0206\n",
            "Epoch 85/100\n",
            "6/6 [==============================] - 1s 149ms/step - loss: 0.0207 - val_loss: 0.0094\n",
            "Epoch 86/100\n",
            "6/6 [==============================] - 1s 150ms/step - loss: 0.0097 - val_loss: 0.0070\n",
            "Epoch 87/100\n",
            "6/6 [==============================] - 1s 151ms/step - loss: 0.0115 - val_loss: 0.0087\n",
            "Epoch 88/100\n",
            "6/6 [==============================] - 1s 140ms/step - loss: 0.0175 - val_loss: 0.0179\n",
            "Epoch 89/100\n",
            "6/6 [==============================] - 1s 138ms/step - loss: 0.0185 - val_loss: 0.0184\n",
            "Epoch 90/100\n",
            "6/6 [==============================] - 1s 140ms/step - loss: 0.0128 - val_loss: 0.0185\n",
            "Epoch 91/100\n",
            "6/6 [==============================] - 1s 141ms/step - loss: 0.0148 - val_loss: 0.0190\n",
            "Epoch 92/100\n",
            "6/6 [==============================] - 1s 138ms/step - loss: 0.0110 - val_loss: 0.0156\n",
            "Epoch 93/100\n",
            "6/6 [==============================] - 1s 142ms/step - loss: 0.0135 - val_loss: 0.0196\n",
            "Epoch 94/100\n",
            "6/6 [==============================] - 1s 145ms/step - loss: 0.0095 - val_loss: 0.0063\n",
            "Epoch 95/100\n",
            "6/6 [==============================] - 1s 145ms/step - loss: 0.0147 - val_loss: 0.0159\n",
            "Epoch 96/100\n",
            "6/6 [==============================] - 1s 139ms/step - loss: 0.0079 - val_loss: 0.0075\n",
            "Epoch 97/100\n",
            "6/6 [==============================] - 1s 141ms/step - loss: 0.0101 - val_loss: 0.0088\n",
            "Epoch 98/100\n",
            "6/6 [==============================] - 1s 140ms/step - loss: 0.0215 - val_loss: 0.0168\n",
            "Epoch 99/100\n",
            "6/6 [==============================] - 1s 147ms/step - loss: 0.0138 - val_loss: 0.0180\n",
            "Epoch 100/100\n",
            "6/6 [==============================] - 1s 144ms/step - loss: 0.0140 - val_loss: 0.0181\n"
          ],
          "name": "stdout"
        },
        {
          "output_type": "execute_result",
          "data": {
            "text/plain": [
              "<tensorflow.python.keras.callbacks.History at 0x7f0cd848c390>"
            ]
          },
          "metadata": {
            "tags": []
          },
          "execution_count": 47
        }
      ]
    },
    {
      "cell_type": "code",
      "metadata": {
        "colab": {
          "base_uri": "https://localhost:8080/"
        },
        "id": "qu4ea8Qoy3l3",
        "outputId": "84ab40ca-d744-43ad-b27c-bc21be86172f"
      },
      "source": [
        "#Save the model as retrained_model\n",
        "model.save('retrained_model_sun_15_aug')"
      ],
      "execution_count": 33,
      "outputs": [
        {
          "output_type": "stream",
          "text": [
            "INFO:tensorflow:Assets written to: retrained_model_sun_15_aug/assets\n"
          ],
          "name": "stdout"
        }
      ]
    },
    {
      "cell_type": "markdown",
      "metadata": {
        "id": "coSoEjtRy3l4"
      },
      "source": [
        "# IGNORE THIS CELL"
      ]
    },
    {
      "cell_type": "code",
      "metadata": {
        "id": "77ODe2i2y3l5"
      },
      "source": [
        "# test_data_dir = 'test'\n",
        "\n",
        "\n",
        "# test_datagen = ImageDataGenerator(\n",
        "#     rescale=1./255,\n",
        "#     ) # set validation split\n",
        "\n",
        "\n",
        "\n",
        "\n",
        "# test_generator = test_datagen.flow_from_directory(\n",
        "#     test_data_dir,\n",
        "#     target_size=(img_height, img_width),\n",
        "#     batch_size=1,\n",
        "#     class_mode='categorical',\n",
        "#     subset='validation') # set as test data\n",
        "# unseen_img = '.jpeg'\n",
        "# img = image.load_img(unseen_img, target_size=(img_height, img_width))\n",
        "# x = image.img_to_array(img)\n",
        "# x = np.expand_dims(x, axis=0)\n",
        "# x = preprocess_input(x)\n",
        "# y_prob = model.predict(x)\n",
        "# list(train_generator.class_indices)[np.argmax(y_prob)]"
      ],
      "execution_count": null,
      "outputs": []
    },
    {
      "cell_type": "markdown",
      "metadata": {
        "id": "Y_-WIfiqy3l5"
      },
      "source": [
        "# Test the model on test set\n",
        "\n",
        "input images into the test folder as is done in supermen directory\n",
        "and run this block\n",
        "It outputs what the Predicted Result is Versus the Actual Name\n",
        "\n",
        "N.B I need to code it to give accrucy values, for now the accuracy is around 30%"
      ]
    },
    {
      "cell_type": "code",
      "metadata": {
        "id": "ZgU6mfvFy3l6"
      },
      "source": [
        "import glob\n",
        "\n",
        "\n",
        "for filepath in glob.iglob('/content/'):\n",
        "    \n",
        "    img = image.load_img(filepath, target_size=(img_height, img_width))\n",
        "    x = image.img_to_array(img)\n",
        "    x = np.expand_dims(x, axis=0)\n",
        "    x = preprocess_input(x)\n",
        "    y_prob = model.predict(x)\n",
        "    print(list(train_generator.class_indices)[np.argmax(y_prob)],'--------', filepath[14:])\n"
      ],
      "execution_count": 20,
      "outputs": []
    },
    {
      "cell_type": "code",
      "metadata": {
        "colab": {
          "base_uri": "https://localhost:8080/"
        },
        "id": "rB03NA1y9gLN",
        "outputId": "bc03a991-a1b7-4a3b-d0c6-1a23b309415d"
      },
      "source": [
        "import glob\n",
        "filepath = '1.jpg'\n",
        "img = image.load_img(filepath, target_size=(img_height, img_width))\n",
        "\n",
        "x = image.img_to_array(img)\n",
        "x = np.expand_dims(x, axis=0)\n",
        "x = preprocess_input(x)\n",
        "\n",
        "np.argmax(model.predict(x))\n"
      ],
      "execution_count": 58,
      "outputs": [
        {
          "output_type": "execute_result",
          "data": {
            "text/plain": [
              "3"
            ]
          },
          "metadata": {
            "tags": []
          },
          "execution_count": 58
        }
      ]
    },
    {
      "cell_type": "code",
      "metadata": {
        "colab": {
          "base_uri": "https://localhost:8080/"
        },
        "id": "j_y31m4Qy3l6",
        "outputId": "cf171bcf-f4df-4694-9ee5-2c773e207f52"
      },
      "source": [
        "# To print the labels in the model\n",
        "train_generator.class_indices"
      ],
      "execution_count": 59,
      "outputs": [
        {
          "output_type": "execute_result",
          "data": {
            "text/plain": [
              "{'.ipynb_checkpoints': 0, 'cavill': 1, 'routh': 2, 'welling': 3}"
            ]
          },
          "metadata": {
            "tags": []
          },
          "execution_count": 59
        }
      ]
    },
    {
      "cell_type": "code",
      "metadata": {
        "id": "j--fHWgxy3l7"
      },
      "source": [
        ""
      ],
      "execution_count": null,
      "outputs": []
    }
  ]
}